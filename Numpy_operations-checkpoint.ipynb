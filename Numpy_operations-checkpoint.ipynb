{
 "cells": [
  {
   "cell_type": "code",
   "execution_count": 6,
   "id": "d245c52a-6b68-4ae4-8106-f7df1c01e185",
   "metadata": {},
   "outputs": [
    {
     "data": {
      "text/plain": [
       "array([ 2,  4,  8, 66,  6])"
      ]
     },
     "execution_count": 6,
     "metadata": {},
     "output_type": "execute_result"
    }
   ],
   "source": [
    "import numpy as np\n",
    "a=np.array([1 ,2, 3, 4, 5])\n",
    "b=np.array([15, 88, 6,56, 55, 6, 8])\n",
    "c=np.array([2, 4, 8, 66, 6])\n",
    "c"
   ]
  },
  {
   "cell_type": "code",
   "execution_count": 8,
   "id": "afce3945-5374-44bd-bf54-14972f3637e3",
   "metadata": {},
   "outputs": [
    {
     "data": {
      "text/plain": [
       "array([ 3,  6, 11, 70, 11])"
      ]
     },
     "execution_count": 8,
     "metadata": {},
     "output_type": "execute_result"
    }
   ],
   "source": [
    "k=np.add(a,c)\n",
    "k"
   ]
  },
  {
   "cell_type": "code",
   "execution_count": 11,
   "id": "d6ec369f-0169-41d2-8e7f-f7a1c6fe5664",
   "metadata": {},
   "outputs": [
    {
     "name": "stdout",
     "output_type": "stream",
     "text": [
      "[ 2  4  8 66  6]\n",
      "86\n",
      "2\n",
      "66\n",
      "0\n",
      "17.2\n",
      "3\n"
     ]
    }
   ],
   "source": [
    "print(c)\n",
    "print(c.sum())\n",
    "print(c.min())\n",
    "print(c.max())\n",
    "print(c.argmin())\n",
    "print(c.mean())\n",
    "print(c.argmax())"
   ]
  },
  {
   "cell_type": "code",
   "execution_count": null,
   "id": "f84200b9-a225-4552-b01e-e6f6aa7b96dd",
   "metadata": {},
   "outputs": [],
   "source": []
  }
 ],
 "metadata": {
  "kernelspec": {
   "display_name": "Python 3 (ipykernel)",
   "language": "python",
   "name": "python3"
  },
  "language_info": {
   "codemirror_mode": {
    "name": "ipython",
    "version": 3
   },
   "file_extension": ".py",
   "mimetype": "text/x-python",
   "name": "python",
   "nbconvert_exporter": "python",
   "pygments_lexer": "ipython3",
   "version": "3.12.4"
  }
 },
 "nbformat": 4,
 "nbformat_minor": 5
}
