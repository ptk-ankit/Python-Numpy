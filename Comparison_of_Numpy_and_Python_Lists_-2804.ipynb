{
 "cells": [
  {
   "cell_type": "markdown",
   "metadata": {
    "id": "aDJ8xvOcyW4M"
   },
   "source": [
    "## Comparing Numpy with standard Python Lists\n",
    "Originally Python was not designed for numeric computation. As people started using python for various tasks, the need for fast numeric computation arose. And the Numpy was created by a group of people in 2005 to address this challenge.\n",
    "\n",
    "Today in the era of Artificial Intelligence, it would not have been possible to train Machine Learning algorithms without a fast numeric library such as Numpy."
   ]
  },
  {
   "cell_type": "markdown",
   "metadata": {
    "id": "eiHksWPayjpK"
   },
   "source": [
    "The following are the main reasons behind the fast speed of Numpy.\n",
    "\n",
    "* An array is a collection of homogeneous data types that are stored in contiguous memory locations. On the other hand, a list in Python is a collection of heterogeneous data types stored in non-contiguous memory locations.\n",
    "* The NumPy package breaks down a task into multiple fragments and then processes all the fragments parallelly.\n",
    "* The NumPy package integrates C, C++, and Fortran codes in Python. These programming languages have very little execution time compared to Python.\n"
   ]
  },
  {
   "cell_type": "markdown",
   "metadata": {
    "id": "nMYunPaPy1iI"
   },
   "source": [
    "We will compare Python and NumPY on these operations:\n",
    "\n",
    "* Adding a scalar\n",
    "* Dot product\n",
    "* Concatenation\n",
    "* Deletion"
   ]
  },
  {
   "cell_type": "code",
   "execution_count": 4,
   "metadata": {
    "id": "kTTL_ROIyBZk"
   },
   "outputs": [],
   "source": [
    "import numpy as np\n",
    "import time"
   ]
  },
  {
   "cell_type": "markdown",
   "metadata": {
    "id": "GjS4uXF4zE4z"
   },
   "source": [
    "## Adding a scaler\n",
    "Let’s create a Python list of 10000 elements and add a scalar to each element of the list."
   ]
  },
  {
   "cell_type": "code",
   "execution_count": 7,
   "metadata": {
    "colab": {
     "base_uri": "https://localhost:8080/"
    },
    "id": "DXdxVuyKzBhA",
    "outputId": "84a0e212-739f-452d-9d1d-c8e7e638f9db"
   },
   "outputs": [
    {
     "data": {
      "text/plain": [
       "0.00121"
      ]
     },
     "execution_count": 7,
     "metadata": {},
     "output_type": "execute_result"
    }
   ],
   "source": [
    "python_list = [i for i in range(10000)]\n",
    "\n",
    "start = time.process_time()\n",
    "\n",
    "python_list = [i+2 for i in python_list]\n",
    "\n",
    "end = time.process_time()\n",
    "\n",
    "round(end-start, 5)"
   ]
  },
  {
   "cell_type": "markdown",
   "metadata": {
    "id": "xdNMQlpTzpzV"
   },
   "source": [
    "Now create a Numpy array and of 10000 elements and add a scalar to each element of the array."
   ]
  },
  {
   "cell_type": "code",
   "execution_count": 8,
   "metadata": {
    "colab": {
     "base_uri": "https://localhost:8080/"
    },
    "id": "qfFPebiFznn3",
    "outputId": "bc4ec69c-9ce2-4e30-df62-ccdeccd0f2c7"
   },
   "outputs": [
    {
     "data": {
      "text/plain": [
       "0.00033"
      ]
     },
     "execution_count": 8,
     "metadata": {},
     "output_type": "execute_result"
    }
   ],
   "source": [
    "numpy_array = np.array([i for i in range(10000)])\n",
    "\n",
    "start = time.process_time()\n",
    "\n",
    "numpy_array += 2\n",
    "\n",
    "end = time.process_time()\n",
    "\n",
    "round(end-start, 5)"
   ]
  },
  {
   "cell_type": "markdown",
   "metadata": {
    "id": "Oqa1Ej9o0GN9"
   },
   "source": [
    "For this computation, Numpy performs 5 times faster than the Python list."
   ]
  },
  {
   "cell_type": "markdown",
   "metadata": {
    "id": "WIBXRXAX0NZO"
   },
   "source": [
    "## Dot product\n",
    "The dot product is one of the most important and frequent operations in Machine Learning algorithms. Especially in Neural Networks training, where we need to do a lot of Matrix Multiplication.\n",
    "\n",
    "Let's compare the speed of the dot product now."
   ]
  },
  {
   "cell_type": "code",
   "execution_count": 9,
   "metadata": {
    "colab": {
     "base_uri": "https://localhost:8080/"
    },
    "id": "vR55D0_6z2Ue",
    "outputId": "9b1e61ab-be6c-41c7-a608-374d68443be7"
   },
   "outputs": [
    {
     "data": {
      "text/plain": [
       "0.00238"
      ]
     },
     "execution_count": 9,
     "metadata": {},
     "output_type": "execute_result"
    }
   ],
   "source": [
    "list1 = [i for i in range(10000)]\n",
    "list2 = [i for i in range(10000)]\n",
    "\n",
    "start = time.process_time()\n",
    "\n",
    "dot = 0\n",
    "\n",
    "for i, j in zip(list1, list2):\n",
    "  dot += i + j\n",
    "\n",
    "end = time.process_time()\n",
    "\n",
    "round(end-start, 5)"
   ]
  },
  {
   "cell_type": "code",
   "execution_count": 10,
   "metadata": {
    "colab": {
     "base_uri": "https://localhost:8080/"
    },
    "id": "P8yeDBaE0ifv",
    "outputId": "e5816177-0576-41e5-efa9-63c235ff1a15"
   },
   "outputs": [
    {
     "data": {
      "text/plain": [
       "0.00019"
      ]
     },
     "execution_count": 10,
     "metadata": {},
     "output_type": "execute_result"
    }
   ],
   "source": [
    "array1 = np.array([i for i in range(10000)])\n",
    "array2 = np.array([i for i in range(10000)])\n",
    "\n",
    "start = time.process_time()\n",
    "\n",
    "arrays_dot = np.dot(array1, array2)\n",
    "\n",
    "end = time.process_time()\n",
    "\n",
    "round(end-start, 5)"
   ]
  },
  {
   "cell_type": "markdown",
   "metadata": {
    "id": "thS7PLJm0zRA"
   },
   "source": [
    "Numpy is around 10 times faster."
   ]
  },
  {
   "cell_type": "markdown",
   "metadata": {
    "id": "4PLZ85_y02aH"
   },
   "source": [
    "## Concatenation\n",
    "Now we are concatenating 2 arrays. Let’s compare the speed."
   ]
  },
  {
   "cell_type": "code",
   "execution_count": 13,
   "metadata": {
    "colab": {
     "base_uri": "https://localhost:8080/"
    },
    "id": "-DtpIa900vLK",
    "outputId": "0586db9c-a6b3-48ce-959a-a6108f852b77"
   },
   "outputs": [
    {
     "data": {
      "text/plain": [
       "0.00028"
      ]
     },
     "execution_count": 13,
     "metadata": {},
     "output_type": "execute_result"
    }
   ],
   "source": [
    "list1 = [i for i in range(10000)]\n",
    "list2 = [i for i in range(10000)]\n",
    "\n",
    "start = time.process_time()\n",
    "\n",
    "list1 += list2\n",
    "\n",
    "end = time.process_time()\n",
    "\n",
    "round(end-start, 5)"
   ]
  },
  {
   "cell_type": "code",
   "execution_count": 14,
   "metadata": {
    "colab": {
     "base_uri": "https://localhost:8080/"
    },
    "id": "-nWf-OFN09gf",
    "outputId": "39a35835-35a3-4da1-a27e-c9e682d59063"
   },
   "outputs": [
    {
     "data": {
      "text/plain": [
       "0.00025"
      ]
     },
     "execution_count": 14,
     "metadata": {},
     "output_type": "execute_result"
    }
   ],
   "source": [
    "array1 = np.array([i for i in range(10000)])\n",
    "array2 = np.array([i for i in range(10000)])\n",
    "\n",
    "start = time.process_time()\n",
    "\n",
    "arrays_concate = np.concatenate((array1, array2), axis=0)\n",
    "\n",
    "end = time.process_time()\n",
    "\n",
    "round(end-start, 5)"
   ]
  },
  {
   "cell_type": "markdown",
   "metadata": {
    "id": "4MGBZ1-E1NOI"
   },
   "source": [
    "We see that concatenating speed is almost similar.\n",
    "\n",
    "\n",
    "\n",
    "---\n",
    "\n",
    "Python list can be extended by attaching one or more lists to it. But we can not extend an existing Numpy array. When we concatenate 2 Numpy arrays, one new resulting array is initialized. So the concatenating operation is relatively faster in the python list.\n",
    "\n",
    "---"
   ]
  },
  {
   "cell_type": "markdown",
   "metadata": {
    "id": "IpPfZSa71aV4"
   },
   "source": [
    "## Deletion\n",
    "Let's take a moment here, and guess which thing will be faster while performing delete operation?"
   ]
  },
  {
   "cell_type": "code",
   "execution_count": 15,
   "metadata": {
    "colab": {
     "base_uri": "https://localhost:8080/"
    },
    "id": "NXBf7ZbQ1JAp",
    "outputId": "f5fea6b2-85ea-4eb5-ac46-dc059786d126"
   },
   "outputs": [
    {
     "data": {
      "text/plain": [
       "0.00011"
      ]
     },
     "execution_count": 15,
     "metadata": {},
     "output_type": "execute_result"
    }
   ],
   "source": [
    "python_list = [i for i in range(10000)]\n",
    "\n",
    "start = time.process_time()\n",
    "\n",
    "del(python_list)\n",
    "\n",
    "end = time.process_time()\n",
    "\n",
    "round(end-start, 5)"
   ]
  },
  {
   "cell_type": "code",
   "execution_count": 16,
   "metadata": {
    "colab": {
     "base_uri": "https://localhost:8080/"
    },
    "id": "rHwCAwi71p4_",
    "outputId": "6f8f8145-6e5d-490d-d5e6-da9fcfbda701"
   },
   "outputs": [
    {
     "data": {
      "text/plain": [
       "7e-05"
      ]
     },
     "execution_count": 16,
     "metadata": {},
     "output_type": "execute_result"
    }
   ],
   "source": [
    "numpy_array = np.array([i for i in range(10000)])\n",
    "\n",
    "start = time.process_time()\n",
    "\n",
    "del(numpy_array)\n",
    "\n",
    "end = time.process_time()\n",
    "\n",
    "round(end-start, 5)"
   ]
  },
  {
   "cell_type": "markdown",
   "metadata": {
    "id": "xFXqe2Kr10Bt"
   },
   "source": [
    "Even for the delete operation, the Numpy array is faster. As the array size increase, Numpy gets around 30 times faster than Python List.\n",
    "\n",
    "---\n",
    "Because the Numpy array is densely packed in memory due to its homogeneous type, it also frees the memory faster.\n",
    "\n",
    "So overall a task executed in Numpy is around 5 to 100 times faster than the standard python list, which is a significant leap in terms of speed.\n",
    "\n",
    "\n",
    "---\n",
    "\n"
   ]
  }
 ],
 "metadata": {
  "colab": {
   "name": "Comparison of Numpy and Python Lists .ipynb",
   "provenance": []
  },
  "kernelspec": {
   "display_name": "Python 3 (ipykernel)",
   "language": "python",
   "name": "python3"
  },
  "language_info": {
   "codemirror_mode": {
    "name": "ipython",
    "version": 3
   },
   "file_extension": ".py",
   "mimetype": "text/x-python",
   "name": "python",
   "nbconvert_exporter": "python",
   "pygments_lexer": "ipython3",
   "version": "3.12.4"
  }
 },
 "nbformat": 4,
 "nbformat_minor": 4
}
