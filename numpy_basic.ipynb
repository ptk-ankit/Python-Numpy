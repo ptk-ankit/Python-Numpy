{
 "cells": [
  {
   "cell_type": "code",
   "execution_count": 2,
   "id": "c6d2e9ae-1724-46ce-83e4-5f79d709b0a8",
   "metadata": {},
   "outputs": [
    {
     "name": "stdout",
     "output_type": "stream",
     "text": [
      "[1, 2, 3, 4, 5, 6, 7, 8, 9, 10, 11, 12, 13, 14, 15, 16, 17, 18, 19, 20, 21, 22, 23, 24, 25, 26, 27, 28, 29, 30, 31, 32, 33, 34, 35, 36, 37, 38, 39, 40, 41, 42, 43, 44, 45, 46, 47, 48, 49, 50, 51, 52, 53, 54, 55, 56, 57, 58, 59, 60, 61, 62, 63, 64, 65, 66, 67, 68, 69, 70, 71, 72, 73, 74, 75, 76, 77, 78, 79, 80, 81, 82, 83, 84, 85, 86, 87, 88, 89, 90, 91, 92, 93, 94, 95, 96, 97, 98, 99]\n",
      "[ 0  1  2  3  4  5  6  7  8  9 10 11 12 13 14 15 16 17 18 19 20 21 22 23\n",
      " 24 25 26 27 28 29 30 31 32 33 34 35 36 37 38 39 40 41 42 43 44 45 46 47\n",
      " 48 49 50 51 52 53 54 55 56 57 58 59 60 61 62 63 64 65 66 67 68 69 70 71\n",
      " 72 73 74 75 76 77 78 79 80 81 82 83 84 85 86 87 88 89 90 91 92 93 94 95\n",
      " 96 97 98 99]\n"
     ]
    }
   ],
   "source": [
    "import numpy as np\n",
    "\n",
    "a=[i for i in range(1,100)]\n",
    "b=np.arange(100)\n",
    "\n",
    "print(a)\n",
    "print(b)\n"
   ]
  },
  {
   "cell_type": "code",
   "execution_count": 9,
   "id": "3fd607f5-200b-4bde-bd9d-98a960c46ee4",
   "metadata": {},
   "outputs": [
    {
     "name": "stdout",
     "output_type": "stream",
     "text": [
      "8\n",
      "28\n"
     ]
    }
   ],
   "source": [
    "import sys\n",
    "\n",
    "print(b.itemsize)\n",
    "print(sys.getsizeof(3))"
   ]
  },
  {
   "cell_type": "code",
   "execution_count": 25,
   "id": "49cd0401-0627-4fa4-a939-9f0239243a2f",
   "metadata": {},
   "outputs": [
    {
     "data": {
      "text/plain": [
       "array([1., 1., 1., 1., 1.])"
      ]
     },
     "execution_count": 25,
     "metadata": {},
     "output_type": "execute_result"
    }
   ],
   "source": [
    "b=np.ones(5)\n",
    "b"
   ]
  },
  {
   "cell_type": "code",
   "execution_count": 28,
   "id": "551ee95b-7e0b-4478-a70d-6b32aec581b6",
   "metadata": {},
   "outputs": [
    {
     "name": "stdout",
     "output_type": "stream",
     "text": [
      "8.3\n"
     ]
    }
   ],
   "source": [
    "import numpy as np\n",
    "ary = np.array([1,2,3,5,8])\n",
    "ary = ary + 6.3\n",
    "print (ary[1])"
   ]
  },
  {
   "cell_type": "code",
   "execution_count": 29,
   "id": "f55acb1a-c6e0-4141-9961-8f8704a8c5a9",
   "metadata": {},
   "outputs": [
    {
     "name": "stdout",
     "output_type": "stream",
     "text": [
      "[            0 1422582354256 1422582357616 1422582354896]\n"
     ]
    }
   ],
   "source": [
    "a = np.empty(4, dtype = int)\n",
    "print(a)"
   ]
  },
  {
   "cell_type": "code",
   "execution_count": 34,
   "id": "a745135a-1701-45cd-8d86-c70b7daae6f8",
   "metadata": {},
   "outputs": [
    {
     "data": {
      "text/plain": [
       "array([           44, 1422582354301, 1422582357662, 1422582354943])"
      ]
     },
     "execution_count": 34,
     "metadata": {},
     "output_type": "execute_result"
    }
   ],
   "source": [
    "a=a+[1,2,3,4]\n",
    "a=a+16\n",
    "a"
   ]
  },
  {
   "cell_type": "code",
   "execution_count": 44,
   "id": "edc7524c-98ac-458c-9c85-a19be4e5c98e",
   "metadata": {},
   "outputs": [
    {
     "data": {
      "text/plain": [
       "array([2, 4, 6, 8])"
      ]
     },
     "execution_count": 44,
     "metadata": {},
     "output_type": "execute_result"
    }
   ],
   "source": [
    "ary=np.arange(2,10,2)\n",
    "ary"
   ]
  },
  {
   "cell_type": "code",
   "execution_count": 82,
   "id": "7fd748d3-d98b-44a0-80a3-8d74b438c825",
   "metadata": {},
   "outputs": [
    {
     "ename": "ModuleNotFoundError",
     "evalue": "No module named 'pylab'",
     "output_type": "error",
     "traceback": [
      "\u001b[1;31m---------------------------------------------------------------------------\u001b[0m",
      "\u001b[1;31mModuleNotFoundError\u001b[0m                       Traceback (most recent call last)",
      "Cell \u001b[1;32mIn[82], line 1\u001b[0m\n\u001b[1;32m----> 1\u001b[0m \u001b[38;5;28;01mimport\u001b[39;00m \u001b[38;5;21;01mpylab\u001b[39;00m \u001b[38;5;28;01mas\u001b[39;00m \u001b[38;5;21;01mp\u001b[39;00m\n\u001b[0;32m      3\u001b[0m aray\u001b[38;5;241m=\u001b[39mnp\u001b[38;5;241m.\u001b[39mlinspace(\u001b[38;5;241m20\u001b[39m,\u001b[38;5;241m2\u001b[39m,\u001b[38;5;241m10\u001b[39m,endpoint\u001b[38;5;241m=\u001b[39m\u001b[38;5;28;01mTrue\u001b[39;00m,retstep\u001b[38;5;241m=\u001b[39m\u001b[38;5;28;01mTrue\u001b[39;00m,dtype\u001b[38;5;241m=\u001b[39m\u001b[38;5;28mfloat\u001b[39m,axis\u001b[38;5;241m=\u001b[39m\u001b[38;5;241m-\u001b[39m\u001b[38;5;241m1\u001b[39m)\n\u001b[0;32m      4\u001b[0m aray\n",
      "\u001b[1;31mModuleNotFoundError\u001b[0m: No module named 'pylab'"
     ]
    }
   ],
   "source": [
    "import pylab as p\n",
    "\n",
    "aray=np.linspace(20,2,10,endpoint=True,retstep=True,dtype=float,axis=-1)\n",
    "aray\n",
    "p.plot(aray)"
   ]
  },
  {
   "cell_type": "code",
   "execution_count": 98,
   "id": "7a1bac6d-7938-41e2-9101-5cb4b6683b2b",
   "metadata": {},
   "outputs": [
    {
     "data": {
      "text/plain": [
       "array([[1., 0., 0., 0.],\n",
       "       [0., 1., 0., 0.],\n",
       "       [0., 0., 1., 0.]])"
      ]
     },
     "execution_count": 98,
     "metadata": {},
     "output_type": "execute_result"
    }
   ],
   "source": [
    "arrr=np.eye(3,4)\n",
    "arrr"
   ]
  },
  {
   "cell_type": "code",
   "execution_count": 97,
   "id": "8468983e-d349-4662-9a90-0869a841a68e",
   "metadata": {},
   "outputs": [
    {
     "data": {
      "text/plain": [
       "array([[1., 0., 0.],\n",
       "       [0., 1., 0.],\n",
       "       [0., 0., 1.]])"
      ]
     },
     "execution_count": 97,
     "metadata": {},
     "output_type": "execute_result"
    }
   ],
   "source": [
    "a=np.identity(3)\n",
    "a"
   ]
  },
  {
   "cell_type": "code",
   "execution_count": 144,
   "id": "16d36d2a-6d91-427b-befa-f3fb2e22addf",
   "metadata": {},
   "outputs": [
    {
     "data": {
      "text/plain": [
       "array([[0.14560039, 0.70865539, 0.01048784, 0.95036639, 0.88757326],\n",
       "       [0.56682277, 0.7809055 , 0.71909695, 0.35439431, 0.9792159 ]])"
      ]
     },
     "execution_count": 144,
     "metadata": {},
     "output_type": "execute_result"
    }
   ],
   "source": [
    "b=np.random.rand(2,5)\n",
    "b"
   ]
  },
  {
   "cell_type": "code",
   "execution_count": 161,
   "id": "fb8215e9-7dcd-44f0-9e36-58a196d9d092",
   "metadata": {},
   "outputs": [
    {
     "name": "stdout",
     "output_type": "stream",
     "text": [
      "[[1, 2, 3, 4], [5, 6, 7, 8], [9, 10, 11, 12], [13, 14, 15, 16]]\n",
      "[[ 1  2  3  4]\n",
      " [ 5  6  7  8]\n",
      " [ 9 10 11 12]\n",
      " [13 14 15 16]]\n",
      "****************************\n",
      "[[10 11]\n",
      " [14 15]]\n"
     ]
    }
   ],
   "source": [
    "lis=[[1,2,3,4],[5,6,7,8],[9,10,11,12],[13,14,15,16]]\n",
    "arr=np.array(lis)\n",
    "\n",
    "print(lis)\n",
    "print(arr)\n",
    "print('****************************')\n",
    "\n",
    "print(arr[2:4,1:3])\n",
    "\n",
    "\n"
   ]
  },
  {
   "cell_type": "code",
   "execution_count": 168,
   "id": "289260ee-04f7-4793-8777-948f16a19c44",
   "metadata": {},
   "outputs": [
    {
     "name": "stdout",
     "output_type": "stream",
     "text": [
      "[[False False False False]\n",
      " [False False False False]\n",
      " [False False  True  True]\n",
      " [ True  True  True  True]]\n",
      "[11 12 13 14]\n"
     ]
    }
   ],
   "source": [
    "print(arr>10)\n",
    "print(arr[(arr>10) & (arr<15)])\n"
   ]
  },
  {
   "cell_type": "code",
   "execution_count": 169,
   "id": "a5841c39-711b-48cc-a77a-2565d595b9c2",
   "metadata": {},
   "outputs": [
    {
     "data": {
      "text/plain": [
       "array([[ 1,  2,  3,  4],\n",
       "       [ 5,  6,  7,  8],\n",
       "       [ 9, 10, 50, 50],\n",
       "       [50, 50, 50, 50]])"
      ]
     },
     "execution_count": 169,
     "metadata": {},
     "output_type": "execute_result"
    }
   ],
   "source": [
    "arr[arr>10]=50\n",
    "arr"
   ]
  },
  {
   "cell_type": "code",
   "execution_count": 173,
   "id": "097b57a0-8fe0-45bc-85ae-c232d184c7c2",
   "metadata": {},
   "outputs": [
    {
     "data": {
      "text/plain": [
       "(array([0, 0, 0, 0, 1, 1, 1, 1, 2, 2]), array([0, 1, 2, 3, 0, 1, 2, 3, 0, 1]))"
      ]
     },
     "execution_count": 173,
     "metadata": {},
     "output_type": "execute_result"
    }
   ],
   "source": [
    "ind=np.where(arr<50)\n",
    "ind"
   ]
  },
  {
   "cell_type": "code",
   "execution_count": 181,
   "id": "e59b1935-1098-4f23-8171-eda06e62b021",
   "metadata": {},
   "outputs": [
    {
     "data": {
      "text/plain": [
       "(5,)"
      ]
     },
     "execution_count": 181,
     "metadata": {},
     "output_type": "execute_result"
    }
   ],
   "source": [
    "a = np.array([0, 1, 2, 3,9])\n",
    "a.shape\n"
   ]
  },
  {
   "cell_type": "code",
   "execution_count": 182,
   "id": "5069a93b-908e-4b65-8055-01b860343a22",
   "metadata": {},
   "outputs": [
    {
     "name": "stdout",
     "output_type": "stream",
     "text": [
      "0.56\n",
      "1.11\n",
      "1.67\n",
      "2.22\n",
      "2.78\n",
      "3.33\n",
      "3.89\n",
      "4.44\n",
      "5.0\n"
     ]
    }
   ],
   "source": [
    "import numpy as np\n",
    "\n",
    "def cut_rope(length, num_parts):\n",
    "    # Generate cut points using numpy.linspace\n",
    "    cut_points = np.linspace(0, length, num_parts + 1)[1:]  # Skip the first point (0) and include the rest\n",
    "    \n",
    "    # Round the cut points to 2 decimal places\n",
    "    cut_points_rounded = np.round(cut_points, 2)\n",
    "    \n",
    "    return cut_points_rounded\n",
    "\n",
    "# Example usage\n",
    "if __name__ == \"__main__\":\n",
    "    rope_length = 5  # Length of the rope in meters\n",
    "    num_parts = 9    # Number of parts to cut the rope into\n",
    "    \n",
    "    # Get the cut points\n",
    "    cut_points = cut_rope(rope_length, num_parts)\n",
    "    \n",
    "    # Print each cut point on a new line\n",
    "    for point in cut_points:\n",
    "        print(point)"
   ]
  },
  {
   "cell_type": "code",
   "execution_count": null,
   "id": "bd3cdd30-db18-43e0-ac15-53c80f63a9cb",
   "metadata": {},
   "outputs": [],
   "source": []
  }
 ],
 "metadata": {
  "kernelspec": {
   "display_name": "Python 3 (ipykernel)",
   "language": "python",
   "name": "python3"
  },
  "language_info": {
   "codemirror_mode": {
    "name": "ipython",
    "version": 3
   },
   "file_extension": ".py",
   "mimetype": "text/x-python",
   "name": "python",
   "nbconvert_exporter": "python",
   "pygments_lexer": "ipython3",
   "version": "3.12.4"
  }
 },
 "nbformat": 4,
 "nbformat_minor": 5
}
